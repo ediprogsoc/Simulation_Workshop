{
 "cells": [
  {
   "cell_type": "markdown",
   "metadata": {},
   "source": [
    "# EUPS - Simulation Workshop\n",
    "\n",
    "Welcome to this Programming Society workshop! Today, we'll be looking at how we can use `Python` to model real-world phenomena, and produce some awesome looking results. By the end of this, you will hopefully have modelled an epidemic, simulated a the motion of a planet and its moon, and much more! The notebook and supplementary code is intended to be used with `Python`, however if you are far more competent with another language, feel free to follow along with that - just note that you'll have to use your own environment to run it, and you'll need to write some extra code for things such as viewing and graphing.\n",
    "\n",
    "**Note** - Some sections of this workshop require a small amount of knowledge of mathematics and/or physics to derive from first principles. If this is not your strong suit, don't worry! All the necessary formulae are provided for you. Conversely, if you do enjoy it, you are encouraged to work through and produce the results yourself.\n",
    "\n",
    "So without further ado, let's jump in!"
   ]
  },
  {
   "cell_type": "markdown",
   "metadata": {},
   "source": [
    "## Task 1 - Monty Hall Problem\n",
    "\n",
    "![](https://skepticblog.org/wp-content/uploads/lets-make-a-deal.jpg)\n",
    "\n",
    "Your first job is to simulate the result of playing the game described 2000 times. After each run, append a 1 to the given list variable `should_switch` if it is beneficial to switch (you get the car) and a 0 if not. Finally, print the average of this list and think about what this represents.\n",
    "\n",
    "#### A reminder of the rules:\n",
    "- The contestant picks one of the 3 doors - 2 have a goat, one has a car\n",
    "- One of the other 2 doors is opened and shown to have a goat\n",
    "- The contestant is asked if they want to switch to the other closed door or stay with their original door\n",
    "\n",
    "#### Tips for the simulation:\n",
    "- Represent a door with a 1 if it has a car behind it, a 0 otherwise\n",
    "- Each 'game' should then be a *list* of 3 numbers - 2 0s and a 1, i.e. a **permutation** of `[1,0,0]`\n",
    "- For the contestant's original pick, always pick the first door - as there is no order, we can safely say this is an arbitrary pick\n",
    "\n",
    "Now think about how you can incorporate the game rules into your model. Don't forget to append the appropriate number to `should_switch` as mentioned above. Once you're done, print the average of `should_switch` and uncomment the line of code at the bottom to graph your results! As always, give our tutors a shout if you need some help."
   ]
  },
  {
   "cell_type": "code",
   "execution_count": 7,
   "metadata": {},
   "outputs": [],
   "source": [
    "import sim\n",
    "\n",
    "should_switch = []\n",
    "# Add your code below\n",
    "\n",
    "#sim.montyHallGraph(should_switch)"
   ]
  },
  {
   "cell_type": "markdown",
   "metadata": {},
   "source": [
    "## Task 2 - Market Economy\n",
    "\n",
    "In this section we will write a program that simulates a marketplace. In the marketplace there will\n",
    "be agents (people) that have some wealth. The simulation will progress with events where each event has\n",
    "two parts: (i) interaction and (ii) transaction. The interaction is the meeting of two agents and the\n",
    "transaction part is the exchange of wealth. Since we’re going to deal with effects of randomness, you might find some useful functions in the `numpy.random` module."
   ]
  },
  {
   "cell_type": "markdown",
   "metadata": {},
   "source": [
    "### Task 2.1 - Population Distributions\n",
    "\n",
    "Let’s start by writing a function to create a population of agents. Since we only need to know\n",
    "one number per agent (its wealth) we can keep everything in a list of numbers. Write a function\n",
    "`mk_population(n, m, s)` that takes as input a number (`n`) for the size of the population and `m`, `s`\n",
    "for mean and standard deviation of the distribution from which to sample the initial wealth of the\n",
    "agents in the population. It should return a list of wealths.\n",
    "Example run: `mk_population(5, 10, 2)` = `[6.5, 9.7, 10.0, 9.6, 9.0]`\n",
    "Hint: Look at the `numpy random.normal` function to sample from a normal distribution."
   ]
  },
  {
   "cell_type": "code",
   "execution_count": 10,
   "metadata": {},
   "outputs": [],
   "source": [
    "def mk_population(n,m,s):\n",
    "    pass # Replace this line with your code"
   ]
  },
  {
   "cell_type": "markdown",
   "metadata": {},
   "source": [
    "### Task 2.1 - Population Statistics\n",
    "\n",
    "How evenly is the wealth in a population distributed? The traditional measure is the Gini coefficient,\n",
    "which Wikipedia says is computed by this formula:\n",
    "\n",
    "\\begin{equation}\n",
    "G = \\frac{2\\sum_{i=1}^{n} iy_i}{n\\sum_{i=1}^{n} y_i} - \\frac{n+1}{n}\n",
    "\\end{equation}\n",
    "\n",
    "A Gini index of 0 means total equality (everyone has the same amount), and values closer to 1 mean\n",
    "more inequality (most of the money in the hands of a few individuals). Write a function `gini(wealths)`\n",
    "that given a distribution of wealths returns the gini index according to the above formula. **The wealths must be sorted before using the formula**."
   ]
  },
  {
   "cell_type": "code",
   "execution_count": 11,
   "metadata": {},
   "outputs": [],
   "source": [
    "def gini(wealths):\n",
    "    pass # Replace this line with your code"
   ]
  },
  {
   "cell_type": "markdown",
   "metadata": {},
   "source": [
    "### Task 2.3 - Interactions\n",
    "\n",
    "For the interaction part let’s start with a simple interaction pattern where at every step we pick\n",
    "two random agents to interact. Write a function `anyone(n)` that takes the size of the population\n",
    "and picks two agents at random (i.e. two indices in that range) to interact. Return them in a list (or `numpy` array)."
   ]
  },
  {
   "cell_type": "code",
   "execution_count": 12,
   "metadata": {},
   "outputs": [],
   "source": [
    "def anyone(n):\n",
    "    pass # Replace this line with your code"
   ]
  },
  {
   "cell_type": "markdown",
   "metadata": {},
   "source": [
    "### Task 2.4 - Transactions\n",
    "\n",
    "A transaction changes the wealth of the two interacting agents. We will start with a simple transaction that pools the wealth of the two agents and then just randomly redistributes it back to them.\n",
    "\n",
    "Write a function `random_split(twoWealths)` that given a list (array) containing the wealths of two agents returns a list (array) containing the new wealths of the two agents after redistribution."
   ]
  },
  {
   "cell_type": "code",
   "execution_count": 13,
   "metadata": {},
   "outputs": [],
   "source": [
    "def random_split(twoWealths):\n",
    "    pass # Replace this line with your code"
   ]
  },
  {
   "cell_type": "markdown",
   "metadata": {},
   "source": [
    "### Task 2.5 - Simulation\n",
    "\n",
    "Now we have the basic ingredients for the simulation. We will start by writing a step function that takes a population and performs one step (interaction + transaction) and returns an updated population. Write a function `step(population, interaction, transaction)` that given a population, an interaction function, and a transaction function returns an updated population after applying the given interaction and transaction."
   ]
  },
  {
   "cell_type": "code",
   "execution_count": 14,
   "metadata": {},
   "outputs": [],
   "source": [
    "def step(population, interaction, transaction):\n",
    "    pass # Replace this line with your code"
   ]
  },
  {
   "cell_type": "markdown",
   "metadata": {},
   "source": [
    "And now the simulation function we will just apply many steps at once and return the initial state (list of wealths) and final state (after T steps). Write a function `simulate(T, population, interaction, transaction)` that given a starting population applies the step function $T$ times with the given interaction/transaction functions and prints the initial and final states."
   ]
  },
  {
   "cell_type": "code",
   "execution_count": 15,
   "metadata": {},
   "outputs": [],
   "source": [
    "def simulate(T,population, interaction, transaction):\n",
    "    pass # Replace this line with your code"
   ]
  },
  {
   "cell_type": "markdown",
   "metadata": {},
   "source": [
    "Now we have the gini function to summarise the population but we can also use a more visual output. Histograms are a common way of visualising distributions and we can create one with the `matplotlib.pyplot` library (you can find the documentation online). In the interest of time you can use our function given below in a comment, but if you can, try to produce your own.\n",
    "\n",
    "Now you can perform any simulation experiments you want but here are some ideas:\n",
    "- Starting with an initial wealth distribution with $N = 1000$ with mean $100$ and standard deviation $20$, simulate $20000$ transactions and plot the initial and final distributions on the same graph.\n",
    "\n",
    "- Test the effect of the transaction function. Try a new transaction function, `redistribute` , that taxes both parties $30\\%$ and splits that tax revenue evenly among the two parties; the non-taxed part is split with `random_ split`. Again plot starting and final wealth distributions after $20000$ transactions.\n",
    "\n",
    "- Test the effect of the interaction function. Try a new interaction function, `neighbourhood`, that only allows interactions between close neighbours."
   ]
  },
  {
   "cell_type": "code",
   "execution_count": 16,
   "metadata": {},
   "outputs": [],
   "source": [
    "# Add your code below. Use the following function to display your results if neccessary\n",
    "# sim.showDist(original_distribution, final_distribution)"
   ]
  },
  {
   "cell_type": "markdown",
   "metadata": {},
   "source": [
    "## Task 3 - Projectile Motion\n",
    "\n",
    "![](https://lh3.googleusercontent.com/proxy/QMoIPcXbc0qoE-3SLwUew776Kq4qkNH3QQoP74fo2FUji3dmUuwXgYpkPKap0v7ADB828Rj3Yjx7iZg2mkgV4BorOgPl2znVQx8lCspKbwx24lZXdks1ptMzgYdIFJfgJe6pjDWceavjPWob6XTlGPZb5o9EGgjzOiaHhjYZ)\n",
    "\n",
    "Now we're going to try simulating the motion of a projectile (an object thrown into the air). We're going to ignore the effect of the air on its motion, so that the projectile is only under the effect of gravity (those of you familiar with some basic kinematics will know that such a problem can be solved analytically rather trivially, however we shall later move on to similar problems which cannot).\n",
    "\n",
    "### Gravity - A Quick Primer\n",
    "\n",
    "Close to the Earth's surface, we can assume that all objects are subjected to a constant acceleration of roughly $-9.81 ms^{-2}$. The $-$ sign is in place to show that it acts in a 'downward' direction. Given an inital position and an acceleration, how can we compute later positions? Over a very short timestep, $\\delta t$, we can make the assumption that the velocity is constant as it does not change much. Now, since $\\mathrm{distance} = \\mathrm{speed} \\times \\mathrm{time}$, we can compute the position at time $t+\\delta t$, as it has travelled a distance of $v(t) \\delta t$ in the timestep $\\delta t$:\n",
    "\n",
    "\\begin{equation}\n",
    "x(t+\\delta t) = x(t) + v(t) \\delta t\n",
    "\\end{equation}\n",
    "\n",
    "In general, what we are doing here is approximating the solution to a *differential equation*. In this case, we use the simplest and probably most intuitive approach: *the Forward Euler Method*. We can use an identical approach to find $v(t+\\delta t)$, but note that in this specific case, the acceleration is a constant, so $a(t)$ is the same value regardless of $t$, which may not always be the case:\n",
    "\n",
    "\\begin{equation}\n",
    "v(t+\\delta t) = v(t) + a(t) \\delta t\n",
    "\\end{equation}\n",
    "\n",
    "### Task 3.1 - Forward Euler Projectile\n",
    "\n",
    "Now use the *Forward Euler Method* utilised in the equations above to fill in the arrays for position and velocity of the projectile. You will need to add the values corresponding to incrementing the time by `timestep` for `num_iterations` number of times. The first values of each array (the initial conditions) are already in place. Note that position, velocity and acceleration are all 2-D *vectors*, and as such have 2 components."
   ]
  },
  {
   "cell_type": "code",
   "execution_count": 19,
   "metadata": {},
   "outputs": [],
   "source": [
    "import numpy as np\n",
    "def projectile():\n",
    "    acceleration = np.array([0,-9.81]) # m/s^2\n",
    "    num_iterations = 200\n",
    "    timestep = 0.1 # s\n",
    "    positions = np.zeros((num_iterations + 1, 2))\n",
    "    velocities = np.zeros((num_iterations + 1, 2))\n",
    "    positions[0] = np.array([0,0])\n",
    "    velocities[0] = np.array([2,90])\n",
    "    # Add your code below"
   ]
  },
  {
   "cell_type": "markdown",
   "metadata": {},
   "source": [
    "### Task 3.2 - Optimal Angle\n",
    "\n",
    "Run your simulation multiple times, starting from inital position `[0,0]`, each time simulating a launch angle in the range $20^{\\circ}$ to $60^{\\circ}$ in increments of $5^{\\circ}$, e.g. $20^{\\circ}, 25^{\\circ}, 30^{\\circ}$ etc. Keep the launch speed constant for each of them. Print the angle for which the **horizontal** range is largest, assuming that the range is the horizontal distance until it would strike the floor (height $0$)."
   ]
  },
  {
   "cell_type": "code",
   "execution_count": 20,
   "metadata": {},
   "outputs": [],
   "source": [
    "# Add your code below"
   ]
  },
  {
   "cell_type": "markdown",
   "metadata": {},
   "source": [
    "## Task 4 - Pandemic\n",
    "\n",
    "If you found the previous section to your taste, you might want to look at the section after this one first, as it concerns largely the same thing, but scaled up in both size and complexity. There, you'll be simulating the gravitational interaction of planets and moons. In this section we'll be looking at one of the simplest but most widely used models for simulating infectious diseases : the $SIR$ model.\n",
    "\n",
    "Recall that the $SIR$ model is a compartmental model: $S$usceptible, $I$nfectious and $R$ecovered are the three categories people can be in. It is tricky to come up with explicit formulae for these, but simple to consider the *rates of change* of these categories in a broad sense. These are provided here without the justification - you can find that at the bottom of this page.\n",
    "\n",
    "\\begin{align}\n",
    "\\frac{dS(t)}{dt} &= - \\beta I(t) S(t)\\\\\n",
    "\\frac{dI(t)}{dt} &= \\beta I(t) S(t) - \\gamma I(t)\\\\\n",
    "\\frac{dR(t)}{dt} &= \\gamma I(t)\n",
    "\\end{align}\n",
    "\n",
    "### Task 4.1 - Base Model\n",
    "\n",
    "Your task is to use the *Forward Euler Method* (see bottom if needed) to fill in the arrays `s`, `i` and `r` with the numbers of susceptible, infected and recovered people for each timestep in the simulation. Initial numbers of each population are provided in the arrays. Uncomment the last line to view the results of the simulation."
   ]
  },
  {
   "cell_type": "code",
   "execution_count": 21,
   "metadata": {},
   "outputs": [],
   "source": [
    "num_iterations = 2000\n",
    "timestep = 0.1 # days\n",
    "s = np.zeros(num_iterations + 1)\n",
    "i = np.zeros(num_iterations + 1)\n",
    "r = np.zeros(num_iterations + 1)\n",
    "s[0] = 1e7 # Initial number of susceptible people\n",
    "i[0] = 1e4 # Initial number of infected people\n",
    "# Add your code below\n",
    "\n",
    "\n",
    "# sim.showSIR(s,i,r)"
   ]
  },
  {
   "cell_type": "markdown",
   "metadata": {},
   "source": [
    "### Task 4.2 - SIRD\n",
    "\n",
    "As we've seen only too recently, pandemics kill people. So let's add a new category $D$eceased to our model. Your task is to change and add to the existing code to fill in this new `d` array. Make use of a new parameter, $\\mu$, which is the *mortality rate* (the proportion of infected people expected to die per day)."
   ]
  },
  {
   "cell_type": "code",
   "execution_count": 23,
   "metadata": {},
   "outputs": [],
   "source": [
    "# Add your code below"
   ]
  },
  {
   "cell_type": "markdown",
   "metadata": {},
   "source": [
    "### Task 4.3 - Experimentation\n",
    "\n",
    "Now that you have a working model, it's time for some experiments. Again, it's completely up to you, but here are some suggestions:\n",
    "\n",
    "- Introduce a LOCKDOWN after some time has passed! Think about what parameters would have to change for this and see what effect it has on the curves\n",
    "- 'Create' a vaccine at a given time - simulate the effect that starting to vaccinate people would have on the model. Can you find the appropriate setting for *herd immunity*?\n",
    "- Change the model by adding new compartments such as 'exposed'; or maybe make it such that no-one is immune"
   ]
  },
  {
   "cell_type": "code",
   "execution_count": 27,
   "metadata": {},
   "outputs": [],
   "source": [
    "# Add your code below"
   ]
  },
  {
   "cell_type": "markdown",
   "metadata": {},
   "source": [
    "## Task 5 - Orbital Motion\n",
    "\n",
    "![](https://cdn.eso.org/images/screen/eso0602a.jpg)\n",
    "\n",
    "Now we're going to apply the very same ideas from Task 3 to the grandest stage of all. There are really only two differences: Firstly, the acceleration is no longer constant, but rather dependent on position (we'll be using Newton's theory of gravitation to calculate it). Also, we are no longer considering just one body but multiple: positions will need to be calculated at each timestep for *each* of these bodies.\n",
    "\n",
    "Newton's formula to calculate the gravitational acceleration of mass $m_1$ due to mass $m_2$:\n",
    "\n",
    "\\begin{equation}\n",
    "\\mathbf{\\vec{a_1}} = \\frac{Gm_2}{\\|\\mathbf{\\vec{r_{21}}}\\|^2} \\mathbf{\\hat{r_{21}}},\n",
    "\\end{equation}\n",
    "\n",
    "where $\\mathbf{\\vec{r_{21}}} = \\mathbf{\\vec{r_2}}-\\mathbf{\\vec{r_1}}$ (the position vector of $m_2$ minus that of $m_1$). The hat represents a *unit vector* (a vector of magnitude 1).\n",
    "\n",
    "### Task 5.1 - Pluto & Charon\n",
    "\n",
    "Let's start by simulating the motion of the dwarf planet Pluto, and it's largest moon Charon. Use the *Forward Euler Method* to compute the values for the position and velocity for the objects, as in Task 3, but this time, note that the dimensions of the arrays are $2 \\times n \\times 2$ to account for the values of both the bodies. So to access the initial positions of Pluto and Charon respectively: `positions[0,0]` and `positions[1,0]`."
   ]
  },
  {
   "cell_type": "code",
   "execution_count": 28,
   "metadata": {},
   "outputs": [],
   "source": [
    "G = 6.67408e-11\n",
    "masses = np.array([1.309e22,1.55e21]) # mass of pluto, then charon\n",
    "num_iterations = 2000\n",
    "timestep = 100 # s\n",
    "positions = np.zeros((2,num_iterations,2))\n",
    "velocities = np.zeros((2,num_iterations,2))\n",
    "positions[1,0] = np.array([17536e3,0]) # Set charon initial position in m\n",
    "velocities[1,0] = np.array([0,210]) # Set charon initial velocity in m/s\n",
    "\n",
    "# Add your code below"
   ]
  },
  {
   "cell_type": "markdown",
   "metadata": {},
   "source": [
    "### Task 5.2 - Anything!\n",
    "\n",
    "Now that you've got a fully working template for a simulation, you can go nuts! Add whatever bodies and values (real or imaginary) you want and observe how they interact with each other in the output animation. You can try:\n",
    "\n",
    "- Simulating the major bodies in our Solar System\n",
    "- Trying to get a stable tertiary star system\n",
    "- Adding in a comet with a highly elliptical orbit\n",
    "\n",
    "One thing to note is that the Forward Euler Method, while simple, is fairly terrible for accuracy. You can get some ideas on more accurate differential equation solvers [here](https://en.wikipedia.org/wiki/Runge%E2%80%93Kutta_methods), but be warned that this naturally comes with added complexity. *Heun's Method* (given below) is a good start as it balances relative ease with a still significant increase in accuracy when compared to the Euler Method.\n",
    "\n",
    "#### Heun's Method\n",
    "\n",
    "The basic idea is to try and get a better approximation of the gradient over the timestep by averaging the gradient and the beginning of the timestep and the estimate of the gradient at the end of timestep given by the Euler Method:\n",
    "\n",
    "\\begin{align}\n",
    "x(t+\\delta t) &= x(t) + \\frac{\\delta t}{2} (v(t) + v_e)) \\\\\n",
    "v(t+\\delta t) &= v(t) + \\frac{\\delta t}{2} (a(t) + a(x_e))\n",
    "\\end{align}\n",
    "\n",
    "where subscript $e$ means the result from the Forward Euler Method at that timestep."
   ]
  }
 ],
 "metadata": {
  "kernelspec": {
   "display_name": "Python 3",
   "language": "python",
   "name": "python3"
  },
  "language_info": {
   "codemirror_mode": {
    "name": "ipython",
    "version": 3
   },
   "file_extension": ".py",
   "mimetype": "text/x-python",
   "name": "python",
   "nbconvert_exporter": "python",
   "pygments_lexer": "ipython3",
   "version": "3.7.4"
  }
 },
 "nbformat": 4,
 "nbformat_minor": 4
}
